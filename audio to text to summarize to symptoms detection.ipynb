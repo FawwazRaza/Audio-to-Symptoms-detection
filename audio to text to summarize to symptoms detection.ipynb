{
  "nbformat": 4,
  "nbformat_minor": 0,
  "metadata": {
    "colab": {
      "provenance": []
    },
    "kernelspec": {
      "name": "python3",
      "display_name": "Python 3"
    },
    "language_info": {
      "name": "python"
    }
  },
  "cells": [
    {
      "cell_type": "code",
      "execution_count": null,
      "metadata": {
        "id": "l9pNNwApwDt_"
      },
      "outputs": [],
      "source": [
        "!git clone https://github.com/openai/whisper.git"
      ]
    },
    {
      "cell_type": "code",
      "source": [
        "!pip install torch openai-whisper"
      ],
      "metadata": {
        "id": "KjCdSAMYDqDO"
      },
      "execution_count": null,
      "outputs": []
    },
    {
      "cell_type": "code",
      "source": [
        "# !pip install openai-whisper\n",
        "import whisper\n",
        "import os\n",
        "\n",
        "def transcribe_audio(audio_path, model_name=\"base\"):\n",
        "    # Load the Whisper model\n",
        "    model = whisper.load_model(model_name)\n",
        "\n",
        "    # Perform the transcription\n",
        "    result = model.transcribe(audio_path)\n",
        "\n",
        "    # Extract the transcribed text\n",
        "    transcribed_text = result[\"text\"]\n",
        "\n",
        "    return transcribed_text\n",
        "\n",
        "# Example usage\n",
        "audio_file_path = \"conversation.wav\"  # Replace with your audio file path\n",
        "output_file_path = \"transcription.txt\"  # Path for the output text file\n",
        "\n",
        "# Perform transcription\n",
        "transcription = transcribe_audio(audio_file_path)\n",
        "\n",
        "# Save transcription to a text file\n",
        "with open(output_file_path, \"w\", encoding=\"utf-8\") as file:\n",
        "    file.write(transcription)\n",
        "\n",
        "print(f\"Transcription completed and saved to {output_file_path}\")"
      ],
      "metadata": {
        "id": "6rt0HdxrwFQ4"
      },
      "execution_count": null,
      "outputs": []
    },
    {
      "cell_type": "code",
      "source": [
        "!pip install openai"
      ],
      "metadata": {
        "id": "-aSZH9CryhNq"
      },
      "execution_count": null,
      "outputs": []
    },
    {
      "cell_type": "code",
      "source": [
        "%cd /content\n"
      ],
      "metadata": {
        "id": "0bmsnSbEzI3-"
      },
      "execution_count": null,
      "outputs": []
    },
    {
      "cell_type": "code",
      "source": [
        "import openai\n",
        "import os\n",
        "from typing import List, Tuple\n",
        "\n",
        "# Set your OpenAI API key\n",
        "openai.api_key = \"\"  # Replace with your actual API key\n",
        "\n",
        "def read_file(file_path: str) -> str:\n",
        "    with open(file_path, 'r', encoding='utf-8') as file:\n",
        "        return file.read()\n",
        "\n",
        "def split_into_chunks(text: str, chunk_size: int = 1000) -> List[str]:\n",
        "    words = text.split()\n",
        "    return [' '.join(words[i:i+chunk_size]) for i in range(0, len(words), chunk_size)]\n",
        "\n",
        "def classify_text(chunk: str, prompt: str) -> str:\n",
        "    response = openai.ChatCompletion.create(\n",
        "        model=\"gpt-3.5-turbo\",\n",
        "        messages=[\n",
        "            {\"role\": \"system\", \"content\": \"You are a helpful assistant that classifies text.\"},\n",
        "            {\"role\": \"user\", \"content\": f\"{prompt}\\n\\nText to classify:\\n{chunk}\"}\n",
        "        ]\n",
        "    )\n",
        "    return response.choices[0].message['content'].strip()\n",
        "\n",
        "def process_file(file_path: str, prompt: str) -> Tuple[List[str], List[str]]:\n",
        "    text = read_file(file_path)\n",
        "    chunks = split_into_chunks(text)\n",
        "\n",
        "    label1_chunks = []\n",
        "    label2_chunks = []\n",
        "\n",
        "    for chunk in chunks:\n",
        "        classification = classify_text(chunk, prompt)\n",
        "        if \"Label 1\" in classification:\n",
        "            label1_chunks.append(chunk)\n",
        "        elif \"Label 2\" in classification:\n",
        "            label2_chunks.append(chunk)\n",
        "\n",
        "    return label1_chunks, label2_chunks\n",
        "\n",
        "def save_results(label1_chunks: List[str], label2_chunks: List[str], output_dir: str):\n",
        "    os.makedirs(output_dir, exist_ok=True)\n",
        "\n",
        "    with open(os.path.join(output_dir, 'label1_text.txt'), 'w', encoding='utf-8') as f:\n",
        "        f.write('\\n'.join(label1_chunks))\n",
        "\n",
        "    with open(os.path.join(output_dir, 'label2_text.txt'), 'w', encoding='utf-8') as f:\n",
        "        f.write('\\n'.join(label2_chunks))\n",
        "\n",
        "# Main execution\n",
        "if __name__ == \"__main__\":\n",
        "    file_path = input(\"transcription.txt\")\n",
        "    prompt = input(\"please classify the female and male voice text and label them as male and female \")\n",
        "    output_dir = input(\"opt.txt\")\n",
        "\n",
        "    label1_chunks, label2_chunks = process_file(file_path, prompt)\n",
        "    save_results(label1_chunks, label2_chunks, output_dir)\n",
        "\n",
        "    print(f\"Classification complete. Results saved in {output_dir}\")"
      ],
      "metadata": {
        "id": "nf-fwgdKxEDr"
      },
      "execution_count": null,
      "outputs": []
    },
    {
      "cell_type": "code",
      "source": [
        "!pip install openai==0.28"
      ],
      "metadata": {
        "id": "7MINwO-xyeAy"
      },
      "execution_count": null,
      "outputs": []
    },
    {
      "cell_type": "code",
      "source": [
        "!pip install openai nltk"
      ],
      "metadata": {
        "id": "XWdg5FjEzzuP"
      },
      "execution_count": null,
      "outputs": []
    },
    {
      "cell_type": "code",
      "source": [
        "import openai\n",
        "import nltk\n",
        "import os\n",
        "\n",
        "# Download the punkt tokenizer for sentence splitting\n",
        "nltk.download('punkt', quiet=True)\n",
        "\n",
        "# Set your OpenAI API key\n",
        "openai.api_key = \"api key\"  # Replace with your actual API key\n",
        "\n",
        "def read_file(file_path):\n",
        "    with open(file_path, 'r', encoding='utf-8') as file:\n",
        "        return file.read()\n",
        "\n",
        "def split_into_sentences(text):\n",
        "    return nltk.sent_tokenize(text)\n",
        "\n",
        "def classify_sentence(sentence):\n",
        "    prompt = f\"Classify the following sentence as either doctor's speech or patient's speech. Respond with only 'Patient:' followed by the sentence.\\n\\nSentence: {sentence}\"\n",
        "\n",
        "    response = openai.ChatCompletion.create(\n",
        "        model=\"gpt-3.5-turbo\",\n",
        "        messages=[\n",
        "            {\"role\": \"system\", \"content\": \"You are a helpful assistant that classifies speech in medical conversations.\"},\n",
        "            {\"role\": \"user\", \"content\": prompt}\n",
        "        ]\n",
        "    )\n",
        "\n",
        "    return response.choices[0].message['content'].strip()\n",
        "\n",
        "def process_transcription(input_file, output_file):\n",
        "    # Read the transcription\n",
        "    transcription = read_file(input_file)\n",
        "\n",
        "    # Split into sentences\n",
        "    sentences = split_into_sentences(transcription)\n",
        "\n",
        "    # Classify each sentence\n",
        "    classified_sentences = []\n",
        "    for sentence in sentences:\n",
        "        classification = classify_sentence(sentence)\n",
        "        classified_sentences.append(classification)\n",
        "\n",
        "    # Write the classified sentences to the output file\n",
        "    with open(output_file, 'w', encoding='utf-8') as file:\n",
        "        for sentence in classified_sentences:\n",
        "            file.write(f\"{sentence}\\n\")\n",
        "\n",
        "# Main execution\n",
        "if __name__ == \"__main__\":\n",
        "    input_file = \"transcription.txt\"\n",
        "    output_file = \"opt.txt\"\n",
        "\n",
        "    process_transcription(input_file, output_file)\n",
        "\n",
        "    print(f\"Classification complete. Results saved in {output_file}\")"
      ],
      "metadata": {
        "id": "wDBG-2aZE0Y-"
      },
      "execution_count": null,
      "outputs": []
    },
    {
      "cell_type": "code",
      "source": [
        "import re\n",
        "import nltk\n",
        "\n",
        "# Download the punkt tokenizer for sentence splitting\n",
        "nltk.download('punkt', quiet=True)\n",
        "\n",
        "# Lists of keywords and phrases often used by patients and doctors\n",
        "patient_keywords = [\n",
        "    \"feel\", \"pain\", \"hurt\", \"worried\", \"concerned\", \"scared\", \"symptom\",\n",
        "    \"problem\", \"issue\", \"medication\", \"medicine\", \"drug\", \"pill\",\n",
        "    \"side effect\", \"family history\", \"allergy\", \"allergic\"\n",
        "]\n",
        "\n",
        "doctor_keywords = [\n",
        "    \"diagnosis\", \"treatment\", \"prescription\", \"recommend\", \"suggest\",\n",
        "    \"test\", \"examination\", \"results\", \"condition\", \"prognosis\",\n",
        "    \"follow-up\", \"specialist\", \"referral\", \"dose\", \"medical history\"\n",
        "]\n",
        "\n",
        "question_words = [\"what\", \"how\", \"when\", \"where\", \"why\", \"do\", \"is\", \"are\", \"can\", \"could\"]\n",
        "\n",
        "def is_question(sentence):\n",
        "    return any(sentence.lower().startswith(word) for word in question_words) or sentence.endswith(\"?\")\n",
        "\n",
        "def count_keywords(sentence, keyword_list):\n",
        "    return sum(1 for keyword in keyword_list if keyword in sentence.lower())\n",
        "\n",
        "def classify_sentence(sentence):\n",
        "    patient_score = count_keywords(sentence, patient_keywords)\n",
        "    doctor_score = count_keywords(sentence, doctor_keywords)\n",
        "\n",
        "    # Doctors tend to ask more questions\n",
        "    if is_question(sentence):\n",
        "        doctor_score += 1\n",
        "\n",
        "    # Patients often use first-person pronouns\n",
        "    if re.search(r'\\b(i|me|my|mine)\\b', sentence.lower()):\n",
        "        patient_score += 1\n",
        "\n",
        "    # Doctors often use second-person pronouns\n",
        "    if re.search(r'\\b(you|your|yours)\\b', sentence.lower()):\n",
        "        doctor_score += 1\n",
        "\n",
        "    if patient_score > doctor_score:\n",
        "        return \"Patient: \" + sentence\n",
        "    elif doctor_score > patient_score:\n",
        "        return \"Doctor: \" + sentence\n",
        "    else:\n",
        "        return \"Unclassified: \" + sentence\n",
        "\n",
        "def process_transcription(input_file, output_file):\n",
        "    # Read the transcription\n",
        "    with open(input_file, 'r', encoding='utf-8') as file:\n",
        "        transcription = file.read()\n",
        "\n",
        "    # Split into sentences\n",
        "    sentences = nltk.sent_tokenize(transcription)\n",
        "\n",
        "    # Classify each sentence\n",
        "    classified_sentences = [classify_sentence(sentence) for sentence in sentences]\n",
        "\n",
        "    # Write the classified sentences to the output file\n",
        "    with open(output_file, 'w', encoding='utf-8') as file:\n",
        "        for sentence in classified_sentences:\n",
        "            file.write(f\"{sentence}\\n\")\n",
        "\n",
        "# Main execution\n",
        "if __name__ == \"__main__\":\n",
        "    input_file = \"transcription.txt\"\n",
        "    output_file = \"classified_conversation.txt\"\n",
        "\n",
        "    process_transcription(input_file, output_file)\n",
        "\n",
        "    print(f\"Classification complete. Results saved in {output_file}\")"
      ],
      "metadata": {
        "id": "OkFHJeJDE5VA"
      },
      "execution_count": null,
      "outputs": []
    },
    {
      "cell_type": "code",
      "source": [
        "!pip install transformers==2.2.0\n",
        "!pip install bert-extractive-summarizer"
      ],
      "metadata": {
        "id": "8ZD1-KfBHFR5"
      },
      "execution_count": null,
      "outputs": []
    },
    {
      "cell_type": "code",
      "source": [
        "!pip install spacy==2.0.12\n"
      ],
      "metadata": {
        "id": "IUr4hKUFLMHQ"
      },
      "execution_count": null,
      "outputs": []
    },
    {
      "cell_type": "code",
      "source": [
        "from summarizer import Summarizer,TransformerSummarizer\n",
        "body = '''\n",
        "      Hello, how can I help you today? Hi, Doctor. I've been feeling very tired lately, and I seem to be getting hair make more frequently. How long have you been experiencing these symptoms? The tiredness has been going on for a few weeks, but the hair make started just a few days ago. Have you noticed any other symptoms, like changes in appetite or sleep patterns? Yes, actually. I've been having trouble sleeping, and I haven't been very hungry. I see. Have you been under a lot on stress recently? At work or home? Yes, work has been very stressful lately. It's possible that stress could be contributing to your symptoms. Have you tried any methods to reduce your stress, like exercise or relaxation techniques? I've tried, but I haven't been very consistent. I recommend trying to incorporate regular exercise and mindfulness practices into your routine. Additionally, let's run some blood tests to rule out any other possible causes. That sounds like a good plan. Thank you, Doctor. You're welcome. We'll schedule the tests, and follow up once we have the results. In the meantime, try to take it easy, and focus on self-care. I will. Thank you.\n",
        "\n",
        "'''\n",
        "bert_model = Summarizer()\n",
        "bert_summary = ''.join(bert_model(body, min_length=60))\n",
        "print(bert_summary)"
      ],
      "metadata": {
        "id": "hRQSOSmoLPwx"
      },
      "execution_count": null,
      "outputs": []
    },
    {
      "cell_type": "code",
      "source": [
        "# !pip install transformers>=4.0.0 # Install a version of transformers that includes BartModel\n",
        "# !pip install bert-extractive-summarizer\n",
        "from transformers.models.bart.modeling_bart import BartModel\n",
        "from summarizer import Summarizer, TransformerSummarizer\n",
        "from typing import List, Optional, Union\n",
        "\n",
        "from transformers import (AlbertModel, AlbertTokenizer, BigBirdModel, BigBirdTokenizer,\n",
        "                          BertModel, BertTokenizer, CamembertModel, CamembertTokenizer, CTRLModel)\n",
        "body = '''\n",
        "      Hello, how can I help you today? Hi, Doctor. I've been feeling very tired lately, and I seem to be getting hair make more frequently. How long have you been experiencing these symptoms? The tiredness has been going on for a few weeks, but the hair make started just a few days ago. Have you noticed any other symptoms, like changes in appetite or sleep patterns? Yes, actually. I've been having trouble sleeping, and I haven't been very hungry. I see. Have you been under a lot on stress recently? At work or home? Yes, work has been very stressful lately. It's possible that stress could be contributing to your symptoms. Have you tried any methods to reduce your stress, like exercise or relaxation techniques? I've tried, but I haven't been very consistent. I recommend trying to incorporate regular exercise and mindfulness practices into your routine. Additionally, let's run some blood tests to rule out any other possible causes. That sounds like a good plan. Thank you, Doctor. You're welcome. We'll schedule the tests, and follow up once we have the results. In the meantime, try to take it easy, and focus on self-care. I will. Thank you.\n",
        "\n",
        "'''\n",
        "bert_model = Summarizer()\n",
        "bert_summary = ''.join(bert_model(body, min_length=60))\n",
        "print(bert_summary)"
      ],
      "metadata": {
        "id": "0nMnc1lFLouX"
      },
      "execution_count": null,
      "outputs": []
    },
    {
      "cell_type": "code",
      "source": [
        "!pip install --upgrade transformers"
      ],
      "metadata": {
        "id": "PMyz_ydpL6am"
      },
      "execution_count": null,
      "outputs": []
    },
    {
      "cell_type": "code",
      "source": [
        "!pip uninstall transformers summarizer\n",
        "!pip install transformers summarizer"
      ],
      "metadata": {
        "id": "Ksaze5kpMYLV"
      },
      "execution_count": null,
      "outputs": []
    },
    {
      "cell_type": "code",
      "source": [
        "!pip install --upgrade bert-extractive-summarizer"
      ],
      "metadata": {
        "id": "9dMd_3ScMbOk"
      },
      "execution_count": null,
      "outputs": []
    },
    {
      "cell_type": "code",
      "source": [
        "# Make sure you have the required libraries installed:\n",
        "# !pip install transformers>=4.0.0\n",
        "# !pip install bert-extractive-summarizer\n",
        "\n",
        "# from summarizer import Summarizer, TransformerSummarizer\n",
        "# from typing import List, Optional, Union\n",
        "\n",
        "# from transformers import (AlbertModel, AlbertTokenizer, BigBirdModel, BigBirdTokenizer,\n",
        "#                           BertModel, BertTokenizer, CamembertModel, CamembertTokenizer, CTRLModel)\n",
        "\n",
        "body = '''\n",
        "      Hello, how can I help you today? Hi, Doctor. I've been feeling very tired lately, and I seem to be getting hair make more frequently. How long have you been experiencing these symptoms? The tiredness has been going on for a few weeks, but the hair make started just a few days ago. Have you noticed any other symptoms, like changes in appetite or sleep patterns? Yes, actually. I've been having trouble sleeping, and I haven't been very hungry. I see. Have you been under a lot on stress recently? At work or home? Yes, work has been very stressful lately. It's possible that stress could be contributing to your symptoms. Have you tried any methods to reduce your stress, like exercise or relaxation techniques? I've tried, but I haven't been very consistent. I recommend trying to incorporate regular exercise and mindfulness practices into your routine. Additionally, let's run some blood tests to rule out any other possible causes. That sounds like a good plan. Thank you, Doctor. You're welcome. We'll schedule the tests, and follow up once we have the results. In the meantime, try to take it easy, and focus on self-care. I will. Thank you.\n",
        "'''\n",
        "from transformers import pipeline\n",
        "\n",
        "summarizer = pipeline(\"summarization\")\n",
        "summary = summarizer(body, max_length=150, min_length=30, do_sample=False)\n",
        "\n",
        "print(summary[0]['summary_text'])\n",
        "# bert_model = Summarizer()\n",
        "# bert_summary = ''.join(bert_model(body, min_length=60))\n",
        "# print(bert_summary)"
      ],
      "metadata": {
        "colab": {
          "base_uri": "https://localhost:8080/"
        },
        "id": "QR7wt2hqNHyB",
        "outputId": "93b4df46-d6b6-4e47-9b99-f173883b9ccb"
      },
      "execution_count": 13,
      "outputs": [
        {
          "output_type": "stream",
          "name": "stderr",
          "text": [
            "No model was supplied, defaulted to sshleifer/distilbart-cnn-12-6 and revision a4f8f3e (https://huggingface.co/sshleifer/distilbart-cnn-12-6).\n",
            "Using a pipeline without specifying a model name and revision in production is not recommended.\n"
          ]
        },
        {
          "output_type": "stream",
          "name": "stdout",
          "text": [
            " Doctor: I've been feeling very tired lately, and I seem to be getting hair make more frequently . Have you noticed any other symptoms, like changes in appetite or sleep patterns? Have you been under a lot on stress recently? At work or home? It's possible that stress could be contributing to your symptoms .\n"
          ]
        }
      ]
    },
    {
      "cell_type": "code",
      "source": [
        "!pip install --upgrade transformers bert-extractive-summarizer spacy"
      ],
      "metadata": {
        "id": "21Ghu4r2N0P2"
      },
      "execution_count": null,
      "outputs": []
    },
    {
      "cell_type": "code",
      "source": [
        "!git clone https://huggingface.co/Clinical-AI-Apollo/Medical-NER"
      ],
      "metadata": {
        "colab": {
          "base_uri": "https://localhost:8080/"
        },
        "id": "_VLdFTfqTu69",
        "outputId": "5c5b2026-4713-47ff-e0ec-227ca262bdeb"
      },
      "execution_count": 14,
      "outputs": [
        {
          "output_type": "stream",
          "name": "stdout",
          "text": [
            "Cloning into 'Medical-NER'...\n",
            "remote: Enumerating objects: 59, done.\u001b[K\n",
            "remote: Counting objects: 100% (56/56), done.\u001b[K\n",
            "remote: Compressing objects: 100% (55/55), done.\u001b[K\n",
            "remote: Total 59 (delta 29), reused 0 (delta 0), pack-reused 3 (from 1)\u001b[K\n",
            "Unpacking objects: 100% (59/59), 1.88 MiB | 1.93 MiB/s, done.\n"
          ]
        }
      ]
    },
    {
      "cell_type": "code",
      "source": [
        "body1='''\n",
        "Sure, here's a sample conversation between a doctor and a patient:\n",
        "\n",
        "**Doctor:** Good morning! How can I help you today?\n",
        "\n",
        "**Patient:** Good morning, Doctor. I’ve been feeling quite off lately, and I’m not sure what’s going on.\n",
        "\n",
        "**Doctor:** I’m sorry to hear that. Can you describe what you mean by \"feeling off\"?\n",
        "\n",
        "**Patient:** Well, I’ve been extremely tired all the time, even after getting a full night’s sleep. I also feel dizzy and lightheaded quite often, especially when I stand up quickly.\n",
        "\n",
        "**Doctor:** That sounds concerning. Have you noticed any other symptoms?\n",
        "\n",
        "**Patient:** Yes, I’ve also been having headaches almost daily. They’re not extremely painful, but they’re persistent and annoying. I’ve also lost my appetite and have been feeling nauseous on and off.\n",
        "\n",
        "**Doctor:** I see. Have you experienced any changes in your weight, either gaining or losing, recently?\n",
        "\n",
        "**Patient:** Yes, I’ve lost about 10 pounds in the last month without trying. It’s really strange because I haven’t changed my diet or exercise routine.\n",
        "\n",
        "**Doctor:** That’s a significant amount of weight loss in a short period. How about your mood? Have you noticed any changes there?\n",
        "\n",
        "**Patient:** Actually, yes. I’ve been feeling pretty down and anxious. I don’t have the same energy or interest in things I usually enjoy.\n",
        "\n",
        "**Doctor:** I understand. How long have these symptoms been going on?\n",
        "\n",
        "**Patient:** It’s been about two months now, and it seems to be getting worse.\n",
        "\n",
        "**Doctor:** Thank you for sharing all of this. It’s important to get to the bottom of what’s causing these symptoms. I’d like to run some tests to check your blood work and see if there’s an underlying medical condition. It might also be helpful to discuss your mental health further, as sometimes physical symptoms can be linked to stress or anxiety.\n",
        "\n",
        "**Patient:** That sounds like a good plan. I just want to feel better and understand what’s happening to my body.\n",
        "\n",
        "**Doctor:** Absolutely, and we’ll do everything we can to figure this out. Let’s start with some blood tests and then schedule a follow-up appointment to go over the results. In the meantime, if your symptoms get worse or you have any new concerns, don’t hesitate to contact us.\n",
        "\n",
        "**Patient:** Thank you, Doctor. I appreciate your help.\n",
        "\n",
        "**Doctor:** You’re welcome. We’ll get to the bottom of this together. Take care, and I’ll see you soon.\n",
        "'''\n",
        "from transformers import pipeline\n",
        "\n",
        "summarizer = pipeline(\"summarization\")\n",
        "summary = summarizer(body1, max_length=150, min_length=30, do_sample=False)\n",
        "\n",
        "print(summary[0]['summary_text'])"
      ],
      "metadata": {
        "colab": {
          "base_uri": "https://localhost:8080/"
        },
        "id": "G-Q5gDt8Tv8l",
        "outputId": "f84b2a28-18b0-40ad-be9d-00d015757a55"
      },
      "execution_count": 15,
      "outputs": [
        {
          "output_type": "stream",
          "name": "stderr",
          "text": [
            "No model was supplied, defaulted to sshleifer/distilbart-cnn-12-6 and revision a4f8f3e (https://huggingface.co/sshleifer/distilbart-cnn-12-6).\n",
            "Using a pipeline without specifying a model name and revision in production is not recommended.\n"
          ]
        },
        {
          "output_type": "stream",
          "name": "stdout",
          "text": [
            " Patient: \"I’ve been feeling quite off lately, and I’m not sure what’s going on\" Patient: I've been extremely tired all the time, even after getting a full night's sleep . \"I've also lost my appetite and have been feeling nauseous on and off,\" patient says .\n"
          ]
        }
      ]
    },
    {
      "cell_type": "code",
      "source": [],
      "metadata": {
        "id": "XnqVVW_4Ukb5"
      },
      "execution_count": null,
      "outputs": []
    }
  ]
}